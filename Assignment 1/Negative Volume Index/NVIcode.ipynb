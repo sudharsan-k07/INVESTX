{
 "cells": [
  {
   "cell_type": "code",
   "execution_count": 26,
   "id": "c3e7a98d",
   "metadata": {},
   "outputs": [],
   "source": [
    "#importing libraries \n",
    "\n",
    "import numpy as np\n",
    "import pandas as pd\n",
    "import yfinance as yf\n",
    "\n"
   ]
  },
  {
   "cell_type": "code",
   "execution_count": 27,
   "id": "eefef19b",
   "metadata": {},
   "outputs": [
    {
     "name": "stdout",
     "output_type": "stream",
     "text": [
      "[*********************100%***********************]  1 of 1 completed\n"
     ]
    }
   ],
   "source": [
    "#fetching data of NVIDIA Stock\n",
    "\n",
    "data = yf.download('NVDA', start='2021-05-23', end='2023-05-23')\n"
   ]
  },
  {
   "cell_type": "code",
   "execution_count": 28,
   "id": "1249458f",
   "metadata": {},
   "outputs": [
    {
     "name": "stdout",
     "output_type": "stream",
     "text": [
      "                  Open        High         Low       Close   Adj Close  \\\n",
      "Date                                                                     \n",
      "2021-05-24  152.125000  157.449997  151.759995  156.119995  155.865372   \n",
      "2021-05-25  157.660004  158.184998  154.824997  156.477493  156.222275   \n",
      "2021-05-26  157.342499  157.937500  155.862503  157.000000  156.743927   \n",
      "2021-05-27  156.997498  157.500000  154.600006  154.880005  154.627380   \n",
      "2021-05-28  155.009995  162.774994  155.009995  162.445007  162.180054   \n",
      "...                ...         ...         ...         ...         ...   \n",
      "2023-05-16  288.410004  298.700012  288.320007  292.130005  292.130005   \n",
      "2023-05-17  295.839996  301.989990  294.299988  301.779999  301.779999   \n",
      "2023-05-18  304.100006  318.279999  303.200012  316.779999  316.779999   \n",
      "2023-05-19  315.359985  315.799988  309.160004  312.640015  312.640015   \n",
      "2023-05-22  309.010010  315.200012  306.799988  311.760010  311.760010   \n",
      "\n",
      "              Volume  Volume Change         NVI  \n",
      "Date                                             \n",
      "2021-05-24  55481600            NaN  156.119995  \n",
      "2021-05-25  43540800    -11940800.0  156.477493  \n",
      "2021-05-26  37044000     -6496800.0  157.000000  \n",
      "2021-05-27  58147600     21103600.0  157.000000  \n",
      "2021-05-28  64453600      6306000.0  157.000000  \n",
      "...              ...            ...         ...  \n",
      "2023-05-16  44940500     15547900.0   85.422986  \n",
      "2023-05-17  43253500     -1687000.0   88.244782  \n",
      "2023-05-18  74872500     31619000.0   88.244782  \n",
      "2023-05-19  47312400    -27560100.0   87.091515  \n",
      "2023-05-22  37200000    -10112400.0   86.846374  \n",
      "\n",
      "[503 rows x 8 columns]\n"
     ]
    }
   ],
   "source": [
    "data['Volume Change'] = data['Volume'].diff()\n",
    "data['NVI'] = 0\n",
    "data.iloc[0, data.columns.get_loc('NVI')] = data.iloc[0]['Close']\n",
    "for i in range(1, len(data)):\n",
    "    if data.iloc[i]['Volume Change'] < 0: \n",
    "        data.iloc[i, data.columns.get_loc('NVI')] = data.iloc[i-1]['NVI'] * (1 + (data.iloc[i]['Close'] - data.iloc[i-1]['Close']) / data.iloc[i-1]['Close'])\n",
    "    else:\n",
    "        data.iloc[i, data.columns.get_loc('NVI')] = data.iloc[i-1]['NVI']\n",
    "\n",
    "print(data)\n"
   ]
  },
  {
   "cell_type": "code",
   "execution_count": null,
   "id": "e886e56b",
   "metadata": {},
   "outputs": [],
   "source": []
  },
  {
   "cell_type": "code",
   "execution_count": null,
   "id": "22237dd9",
   "metadata": {},
   "outputs": [],
   "source": []
  }
 ],
 "metadata": {
  "kernelspec": {
   "display_name": "Python 3 (ipykernel)",
   "language": "python",
   "name": "python3"
  },
  "language_info": {
   "codemirror_mode": {
    "name": "ipython",
    "version": 3
   },
   "file_extension": ".py",
   "mimetype": "text/x-python",
   "name": "python",
   "nbconvert_exporter": "python",
   "pygments_lexer": "ipython3",
   "version": "3.10.9"
  }
 },
 "nbformat": 4,
 "nbformat_minor": 5
}
