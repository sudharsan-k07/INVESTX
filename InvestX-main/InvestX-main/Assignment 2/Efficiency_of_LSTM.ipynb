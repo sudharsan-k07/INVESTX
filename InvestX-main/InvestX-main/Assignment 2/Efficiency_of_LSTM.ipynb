{
  "nbformat": 4,
  "nbformat_minor": 0,
  "metadata": {
    "colab": {
      "provenance": []
    },
    "kernelspec": {
      "name": "python3",
      "display_name": "Python 3"
    },
    "language_info": {
      "name": "python"
    },
    "gpuClass": "standard"
  },
  "cells": [
    {
      "cell_type": "code",
      "execution_count": 5,
      "metadata": {
        "id": "F3NmyDkdaw3f"
      },
      "outputs": [],
      "source": [
        "import numpy as np\n",
        "from tensorflow.keras.models import Sequential\n",
        "from tensorflow.keras.layers import LSTM\n",
        "from tensorflow.keras.layers import Dense, Dropout\n",
        "import pandas as pd\n",
        "from matplotlib import pyplot as plt\n",
        "from sklearn.preprocessing import StandardScaler\n",
        "import seaborn as sns\n",
        "#from datetime import datetime"
      ]
    },
    {
      "cell_type": "markdown",
      "source": [],
      "metadata": {
        "id": "0qK2n_OE2OLb"
      }
    },
    {
      "cell_type": "code",
      "source": [
        "df = pd.read_csv('Train.csv')\n",
        "print(df.head())\n",
        "df=df.head(500)"
      ],
      "metadata": {
        "colab": {
          "base_uri": "https://localhost:8080/"
        },
        "id": "9aH7bA5fdNV8",
        "outputId": "22d2de2d-48f1-4227-8a96-dbe046619774"
      },
      "execution_count": 6,
      "outputs": [
        {
          "output_type": "stream",
          "name": "stdout",
          "text": [
            "         Date    Stock  liabilities      equity  total_assets  current_assets  \\\n",
            "0  2006-07-31  Stock 1   625.898686  925.086518   1550.985204      675.789905   \n",
            "1  2006-08-31  Stock 1   407.387467  903.249093   1310.636561     1023.110983   \n",
            "2  2006-09-29  Stock 1   464.069891  602.668832   1066.738722      709.711673   \n",
            "3  2006-10-31  Stock 1   855.854937  391.375369   1247.230306      649.979564   \n",
            "4  2006-11-30  Stock 1   453.954969  956.490566   1410.445534     1115.594551   \n",
            "\n",
            "   current_liabilities  total_revenue  net_income   dividend  \\\n",
            "0           555.931329     548.488451  251.282553  68.184030   \n",
            "1          1295.186240     513.446432  207.576940  42.232672   \n",
            "2           598.719338     503.519871  133.719700  28.835722   \n",
            "3           733.594339     596.006397  -76.881818   0.000000   \n",
            "4          1152.274711     965.939247 -309.204301   0.000000   \n",
            "\n",
            "   shares_outstanding       price  \n",
            "0             1040831  100.000000  \n",
            "1             1046649  101.924169  \n",
            "2             1094158  103.166191  \n",
            "3             1018574  104.478956  \n",
            "4             1036293  104.160907  \n"
          ]
        }
      ]
    },
    {
      "cell_type": "code",
      "source": [
        "cols = list(df)[2:12]\n",
        "print(cols)"
      ],
      "metadata": {
        "id": "YLtCdVuQdaqD",
        "colab": {
          "base_uri": "https://localhost:8080/"
        },
        "outputId": "171164e4-d664-4f17-da0a-6aad8ef4cc04"
      },
      "execution_count": 7,
      "outputs": [
        {
          "output_type": "stream",
          "name": "stdout",
          "text": [
            "['liabilities', 'equity', 'total_assets', 'current_assets', 'current_liabilities', 'total_revenue', 'net_income', 'dividend', 'shares_outstanding', 'price']\n"
          ]
        }
      ]
    },
    {
      "cell_type": "code",
      "source": [
        "df_for_training = df[cols].astype(float)\n"
      ],
      "metadata": {
        "id": "kW6fJrsveCsy"
      },
      "execution_count": 8,
      "outputs": []
    },
    {
      "cell_type": "code",
      "source": [
        "scaler = StandardScaler()\n",
        "scaler = scaler.fit(df_for_training)\n",
        "df_for_training_scaled = scaler.transform(df_for_training)"
      ],
      "metadata": {
        "id": "sMJHDh0Eea0u"
      },
      "execution_count": 9,
      "outputs": []
    },
    {
      "cell_type": "code",
      "source": [
        "trainX = []\n",
        "trainY = []"
      ],
      "metadata": {
        "id": "UXLCuxpYefYU"
      },
      "execution_count": 10,
      "outputs": []
    },
    {
      "cell_type": "code",
      "source": [
        "n_future = 1   # Number of days we want to look into the future based on the past days.\n",
        "n_past = 14 # Number of past days we want to use to predict the future."
      ],
      "metadata": {
        "id": "SlZmQQHaepNo"
      },
      "execution_count": 11,
      "outputs": []
    },
    {
      "cell_type": "code",
      "source": [
        "for i in range(n_past, len(df_for_training_scaled) - n_future +1):\n",
        "    trainX.append(df_for_training_scaled[i - n_past:i, 0:df_for_training.shape[1]])\n",
        "    trainY.append(df_for_training_scaled[i + n_future - 1:i + n_future, 9])\n",
        "\n",
        "trainX, trainY = np.array(trainX), np.array(trainY)\n",
        "\n",
        "print('trainX shape == {}.'.format(trainX.shape))\n",
        "print('trainY shape == {}.'.format(trainY.shape))"
      ],
      "metadata": {
        "colab": {
          "base_uri": "https://localhost:8080/"
        },
        "id": "9UGlhknUfFXB",
        "outputId": "c9202b41-f5a7-4f51-bfd2-11bc668f4bf8"
      },
      "execution_count": 12,
      "outputs": [
        {
          "output_type": "stream",
          "name": "stdout",
          "text": [
            "trainX shape == (486, 14, 10).\n",
            "trainY shape == (486, 1).\n"
          ]
        }
      ]
    },
    {
      "cell_type": "code",
      "source": [
        "df_for_training_scaled"
      ],
      "metadata": {
        "colab": {
          "base_uri": "https://localhost:8080/"
        },
        "id": "Mf2hun7pvqvf",
        "outputId": "4a45c295-5f97-4341-b664-d8f91fb96de4",
        "collapsed": true
      },
      "execution_count": 13,
      "outputs": [
        {
          "output_type": "execute_result",
          "data": {
            "text/plain": [
              "array([[ 0.34164296,  1.41254059,  1.30291974, ...,  1.95218911,\n",
              "        -0.2571073 , -0.83180949],\n",
              "       [-0.52756875,  1.32971737,  0.61965326, ...,  0.95581093,\n",
              "        -0.06008175, -0.61508903],\n",
              "       [-0.30209279,  0.1897008 , -0.07370292, ...,  0.4414475 ,\n",
              "         1.54880216, -0.47519929],\n",
              "       ...,\n",
              "       [-1.25935202,  0.95702492, -0.1826693 , ...,  0.71992865,\n",
              "         1.56092577, -1.23305601],\n",
              "       [ 0.72182897,  1.30072497,  1.49081084, ...,  0.51368591,\n",
              "        -0.87287139, -1.21717694],\n",
              "       [ 0.49130119, -0.38423901,  0.06310655, ...,  1.46957979,\n",
              "         1.056814  , -1.15210705]])"
            ]
          },
          "metadata": {},
          "execution_count": 13
        }
      ]
    },
    {
      "cell_type": "code",
      "source": [
        "trainY"
      ],
      "metadata": {
        "colab": {
          "base_uri": "https://localhost:8080/"
        },
        "id": "A4HvqbAkv1ZW",
        "outputId": "48d8c098-593a-4270-d9f6-c85495f1fbc4"
      },
      "execution_count": 14,
      "outputs": [
        {
          "output_type": "execute_result",
          "data": {
            "text/plain": [
              "array([[ 0.1078432 ],\n",
              "       [-0.04924127],\n",
              "       [ 0.02031598],\n",
              "       [-0.05555711],\n",
              "       [-0.09060047],\n",
              "       [-0.01174459],\n",
              "       [ 0.11062509],\n",
              "       [ 0.04220278],\n",
              "       [-0.10984473],\n",
              "       [-0.29052066],\n",
              "       [-0.23596843],\n",
              "       [-0.18106189],\n",
              "       [-0.1042968 ],\n",
              "       [-0.06490171],\n",
              "       [-0.02401681],\n",
              "       [ 0.02054171],\n",
              "       [ 0.20998834],\n",
              "       [ 0.24537822],\n",
              "       [ 0.3934287 ],\n",
              "       [ 0.55818595],\n",
              "       [ 0.80612091],\n",
              "       [ 0.82148569],\n",
              "       [ 0.76914932],\n",
              "       [ 0.66540204],\n",
              "       [ 0.54429419],\n",
              "       [ 0.57670895],\n",
              "       [ 0.60135018],\n",
              "       [ 0.69155206],\n",
              "       [ 0.73056692],\n",
              "       [ 0.70287934],\n",
              "       [ 0.79499683],\n",
              "       [ 0.73291638],\n",
              "       [ 0.78051838],\n",
              "       [ 0.94133893],\n",
              "       [ 0.998909  ],\n",
              "       [ 1.00212267],\n",
              "       [ 1.06039199],\n",
              "       [ 1.16644954],\n",
              "       [ 0.97722577],\n",
              "       [ 0.95652883],\n",
              "       [ 1.04578143],\n",
              "       [ 1.12440995],\n",
              "       [ 1.18053962],\n",
              "       [ 1.27320346],\n",
              "       [ 1.21273814],\n",
              "       [ 1.10341764],\n",
              "       [ 0.94743295],\n",
              "       [ 0.84831442],\n",
              "       [ 0.92946479],\n",
              "       [ 1.03379806],\n",
              "       [ 1.24316696],\n",
              "       [ 1.36990463],\n",
              "       [ 1.48852454],\n",
              "       [ 1.69660464],\n",
              "       [ 1.68142792],\n",
              "       [ 1.62660509],\n",
              "       [ 1.82239767],\n",
              "       [ 1.72897809],\n",
              "       [ 1.55623405],\n",
              "       [ 1.63498243],\n",
              "       [ 1.62188363],\n",
              "       [ 1.70016188],\n",
              "       [ 1.59925163],\n",
              "       [ 1.65766623],\n",
              "       [ 1.63652331],\n",
              "       [ 1.7159913 ],\n",
              "       [ 1.68217086],\n",
              "       [ 1.67311298],\n",
              "       [ 1.62011082],\n",
              "       [ 1.66681348],\n",
              "       [ 1.80072929],\n",
              "       [ 1.94122234],\n",
              "       [ 1.854958  ],\n",
              "       [ 1.76068507],\n",
              "       [ 1.63469365],\n",
              "       [ 1.61736386],\n",
              "       [ 1.50147623],\n",
              "       [ 1.57387714],\n",
              "       [ 1.70812511],\n",
              "       [ 1.87947217],\n",
              "       [ 2.00837103],\n",
              "       [ 2.00501623],\n",
              "       [ 2.09607013],\n",
              "       [ 2.15663948],\n",
              "       [ 2.11442494],\n",
              "       [ 2.13018913],\n",
              "       [ 2.27665288],\n",
              "       [ 2.23184217],\n",
              "       [ 2.10358637],\n",
              "       [ 2.01449034],\n",
              "       [ 1.92104838],\n",
              "       [ 1.98726613],\n",
              "       [ 1.97265464],\n",
              "       [ 2.10758899],\n",
              "       [ 2.17849541],\n",
              "       [ 2.28260627],\n",
              "       [ 2.21849111],\n",
              "       [ 2.15820764],\n",
              "       [ 2.01893922],\n",
              "       [ 2.08562166],\n",
              "       [ 2.20003706],\n",
              "       [ 2.16117977],\n",
              "       [ 2.05036013],\n",
              "       [ 2.14263337],\n",
              "       [ 2.11439222],\n",
              "       [ 2.08586306],\n",
              "       [ 2.05478121],\n",
              "       [ 2.08815803],\n",
              "       [ 2.0306868 ],\n",
              "       [ 2.14445362],\n",
              "       [ 2.12604611],\n",
              "       [ 1.99697161],\n",
              "       [ 1.90543229],\n",
              "       [ 1.99086937],\n",
              "       [ 2.11163739],\n",
              "       [ 1.98139341],\n",
              "       [ 1.75318236],\n",
              "       [ 1.75181553],\n",
              "       [ 1.78800381],\n",
              "       [ 1.7540878 ],\n",
              "       [ 1.69010249],\n",
              "       [ 1.59710439],\n",
              "       [ 1.78025062],\n",
              "       [ 1.77608436],\n",
              "       [ 1.70938717],\n",
              "       [ 1.83978086],\n",
              "       [ 2.04564695],\n",
              "       [ 1.99184753],\n",
              "       [ 1.82486041],\n",
              "       [ 1.80081209],\n",
              "       [ 1.70332897],\n",
              "       [ 1.52167662],\n",
              "       [ 1.51284728],\n",
              "       [ 1.59439604],\n",
              "       [ 1.46363672],\n",
              "       [ 1.385592  ],\n",
              "       [-0.83180949],\n",
              "       [-0.56795076],\n",
              "       [-0.42474939],\n",
              "       [-0.51827784],\n",
              "       [-0.55796992],\n",
              "       [-0.63844083],\n",
              "       [-0.59959672],\n",
              "       [-0.63005951],\n",
              "       [-0.49971223],\n",
              "       [-0.3830463 ],\n",
              "       [-0.24593953],\n",
              "       [-0.06716202],\n",
              "       [ 0.10550322],\n",
              "       [ 0.2412793 ],\n",
              "       [ 0.26596846],\n",
              "       [ 0.23763776],\n",
              "       [ 0.26296198],\n",
              "       [ 0.39045006],\n",
              "       [ 0.31611842],\n",
              "       [ 0.16917024],\n",
              "       [ 0.19709797],\n",
              "       [ 0.16449082],\n",
              "       [ 0.03111549],\n",
              "       [ 0.06016119],\n",
              "       [ 0.21148538],\n",
              "       [ 0.39710566],\n",
              "       [ 0.35478031],\n",
              "       [ 0.22867738],\n",
              "       [ 0.30954695],\n",
              "       [ 0.40584394],\n",
              "       [ 0.29845687],\n",
              "       [ 0.36660197],\n",
              "       [ 0.25773735],\n",
              "       [ 0.32205058],\n",
              "       [ 0.21199902],\n",
              "       [ 0.2299606 ],\n",
              "       [ 0.2836509 ],\n",
              "       [ 0.38871808],\n",
              "       [ 0.27396562],\n",
              "       [ 0.08583647],\n",
              "       [-0.01304734],\n",
              "       [ 0.04173521],\n",
              "       [ 0.07109881],\n",
              "       [-0.04748563],\n",
              "       [-0.15023288],\n",
              "       [-0.23559496],\n",
              "       [-0.40730391],\n",
              "       [-0.55108911],\n",
              "       [-0.72043168],\n",
              "       [-0.59821305],\n",
              "       [-0.66521335],\n",
              "       [-0.59686969],\n",
              "       [-0.65176145],\n",
              "       [-0.56601136],\n",
              "       [-0.43485584],\n",
              "       [-0.48159429],\n",
              "       [-0.44087303],\n",
              "       [-0.33763022],\n",
              "       [-0.09972421],\n",
              "       [ 0.04789766],\n",
              "       [-0.00713313],\n",
              "       [-0.05128668],\n",
              "       [-0.02452782],\n",
              "       [-0.12420765],\n",
              "       [-0.2818033 ],\n",
              "       [-0.23520888],\n",
              "       [-0.26379041],\n",
              "       [-0.1759932 ],\n",
              "       [-0.04040729],\n",
              "       [-0.12209437],\n",
              "       [-0.20555125],\n",
              "       [-0.31545266],\n",
              "       [-0.42547219],\n",
              "       [-0.27436871],\n",
              "       [-0.31990687],\n",
              "       [-0.17887275],\n",
              "       [-0.18677714],\n",
              "       [-0.09409596],\n",
              "       [-0.14549654],\n",
              "       [-0.20137445],\n",
              "       [-0.15100962],\n",
              "       [-0.03210533],\n",
              "       [-0.12243907],\n",
              "       [ 0.04714481],\n",
              "       [ 0.23644378],\n",
              "       [ 0.35466894],\n",
              "       [ 0.43589856],\n",
              "       [ 0.34835539],\n",
              "       [ 0.21893439],\n",
              "       [ 0.08150357],\n",
              "       [-0.06482951],\n",
              "       [-0.05958561],\n",
              "       [-0.00926862],\n",
              "       [ 0.13382332],\n",
              "       [ 0.2620218 ],\n",
              "       [ 0.39331066],\n",
              "       [ 0.2838576 ],\n",
              "       [ 0.15243713],\n",
              "       [ 0.06989463],\n",
              "       [-0.16516246],\n",
              "       [-0.19781534],\n",
              "       [-0.24146608],\n",
              "       [-0.3307189 ],\n",
              "       [-0.29023921],\n",
              "       [-0.4148781 ],\n",
              "       [-0.4107403 ],\n",
              "       [-0.3150787 ],\n",
              "       [-0.3824626 ],\n",
              "       [-0.4956937 ],\n",
              "       [-0.5421952 ],\n",
              "       [-0.52440711],\n",
              "       [-0.42772864],\n",
              "       [-0.42036201],\n",
              "       [-0.57970168],\n",
              "       [-0.48790919],\n",
              "       [-0.56447526],\n",
              "       [-0.52458846],\n",
              "       [-0.51332732],\n",
              "       [-0.67934795],\n",
              "       [-0.78175369],\n",
              "       [-0.88942327],\n",
              "       [-0.83996733],\n",
              "       [-0.73989902],\n",
              "       [-0.75164651],\n",
              "       [-0.84933298],\n",
              "       [-0.99311692],\n",
              "       [-1.12974996],\n",
              "       [-1.19649338],\n",
              "       [-1.16389766],\n",
              "       [-1.21211114],\n",
              "       [-1.25496601],\n",
              "       [-1.33123251],\n",
              "       [-1.29822177],\n",
              "       [-1.19066957],\n",
              "       [-1.03140122],\n",
              "       [-1.08842542],\n",
              "       [-1.20265223],\n",
              "       [-1.30756465],\n",
              "       [-1.40260217],\n",
              "       [-1.54300841],\n",
              "       [-1.73701778],\n",
              "       [-1.85446823],\n",
              "       [-2.0020693 ],\n",
              "       [-1.94945106],\n",
              "       [-2.03418742],\n",
              "       [-2.09303486],\n",
              "       [-2.18124533],\n",
              "       [-2.22642351],\n",
              "       [-2.16814282],\n",
              "       [-2.07718624],\n",
              "       [-0.83180949],\n",
              "       [-0.72015512],\n",
              "       [-0.57027424],\n",
              "       [-0.55516707],\n",
              "       [-0.44206826],\n",
              "       [-0.58400363],\n",
              "       [-0.73375284],\n",
              "       [-0.83864885],\n",
              "       [-0.78293048],\n",
              "       [-0.7306775 ],\n",
              "       [-0.75024691],\n",
              "       [-0.85119784],\n",
              "       [-0.8222654 ],\n",
              "       [-0.84343427],\n",
              "       [-0.88374408],\n",
              "       [-0.78778997],\n",
              "       [-0.67765931],\n",
              "       [-0.60027131],\n",
              "       [-0.64637547],\n",
              "       [-0.52005244],\n",
              "       [-0.61163798],\n",
              "       [-0.47399102],\n",
              "       [-0.50071892],\n",
              "       [-0.63867916],\n",
              "       [-0.7307176 ],\n",
              "       [-0.82866645],\n",
              "       [-0.78537403],\n",
              "       [-0.79295439],\n",
              "       [-0.74637537],\n",
              "       [-0.81821437],\n",
              "       [-0.7832723 ],\n",
              "       [-0.66484065],\n",
              "       [-0.54009429],\n",
              "       [-0.40442024],\n",
              "       [-0.29458352],\n",
              "       [-0.13205861],\n",
              "       [-0.02040616],\n",
              "       [-0.02948329],\n",
              "       [-0.05622878],\n",
              "       [ 0.05356527],\n",
              "       [-0.01358866],\n",
              "       [-0.15497362],\n",
              "       [-0.28233006],\n",
              "       [-0.22754424],\n",
              "       [-0.2953304 ],\n",
              "       [-0.36398168],\n",
              "       [-0.46845184],\n",
              "       [-0.45279974],\n",
              "       [-0.38970366],\n",
              "       [-0.41806222],\n",
              "       [-0.41569349],\n",
              "       [-0.2867409 ],\n",
              "       [-0.35857912],\n",
              "       [-0.43655107],\n",
              "       [-0.3851679 ],\n",
              "       [-0.34759311],\n",
              "       [-0.36628009],\n",
              "       [-0.4837288 ],\n",
              "       [-0.4531115 ],\n",
              "       [-0.47696229],\n",
              "       [-0.70932914],\n",
              "       [-0.64355969],\n",
              "       [-0.64047234],\n",
              "       [-0.5753297 ],\n",
              "       [-0.70218035],\n",
              "       [-0.81387439],\n",
              "       [-0.79533557],\n",
              "       [-0.71721479],\n",
              "       [-0.62154947],\n",
              "       [-0.50014754],\n",
              "       [-0.51935127],\n",
              "       [-0.58401155],\n",
              "       [-0.63599836],\n",
              "       [-0.72497783],\n",
              "       [-0.8260469 ],\n",
              "       [-0.98154034],\n",
              "       [-0.8498655 ],\n",
              "       [-0.65917008],\n",
              "       [-0.55422054],\n",
              "       [-0.44299643],\n",
              "       [-0.42738371],\n",
              "       [-0.49836313],\n",
              "       [-0.42706282],\n",
              "       [-0.44478983],\n",
              "       [-0.52619288],\n",
              "       [-0.51494317],\n",
              "       [-0.61493741],\n",
              "       [-0.58071184],\n",
              "       [-0.61207549],\n",
              "       [-0.5083957 ],\n",
              "       [-0.54326542],\n",
              "       [-0.6288471 ],\n",
              "       [-0.5841017 ],\n",
              "       [-0.48101548],\n",
              "       [-0.32930132],\n",
              "       [-0.35396981],\n",
              "       [-0.25731098],\n",
              "       [-0.14378384],\n",
              "       [-0.03022786],\n",
              "       [ 0.01671495],\n",
              "       [-0.13641281],\n",
              "       [-0.23308425],\n",
              "       [-0.14755998],\n",
              "       [-0.16764114],\n",
              "       [-0.25216477],\n",
              "       [-0.31467418],\n",
              "       [-0.4557049 ],\n",
              "       [-0.40489744],\n",
              "       [-0.34612226],\n",
              "       [-0.35451146],\n",
              "       [-0.44477551],\n",
              "       [-0.60313548],\n",
              "       [-0.66599448],\n",
              "       [-0.51836434],\n",
              "       [-0.40550806],\n",
              "       [-0.4735236 ],\n",
              "       [-0.37821971],\n",
              "       [-0.43939331],\n",
              "       [-0.56117574],\n",
              "       [-0.6597519 ],\n",
              "       [-0.64603221],\n",
              "       [-0.60817822],\n",
              "       [-0.74562538],\n",
              "       [-0.71399991],\n",
              "       [-0.59871115],\n",
              "       [-0.65535167],\n",
              "       [-0.753983  ],\n",
              "       [-0.64000091],\n",
              "       [-0.5204142 ],\n",
              "       [-0.5798703 ],\n",
              "       [-0.49985023],\n",
              "       [-0.52704514],\n",
              "       [-0.44540005],\n",
              "       [-0.33554496],\n",
              "       [-0.2098442 ],\n",
              "       [-0.23360477],\n",
              "       [-0.36681819],\n",
              "       [-0.3976189 ],\n",
              "       [-0.48015769],\n",
              "       [-0.45441013],\n",
              "       [-0.57841851],\n",
              "       [-0.7018102 ],\n",
              "       [-0.85403489],\n",
              "       [-0.79873676],\n",
              "       [-0.78754406],\n",
              "       [-0.64814436],\n",
              "       [-0.65556077],\n",
              "       [-0.67312405],\n",
              "       [-0.74137874],\n",
              "       [-0.78442585],\n",
              "       [-0.83180949],\n",
              "       [-0.68733684],\n",
              "       [-0.68074313],\n",
              "       [-0.80674315],\n",
              "       [-0.96356005],\n",
              "       [-0.90805526],\n",
              "       [-0.96762136],\n",
              "       [-1.03411807],\n",
              "       [-0.96151457],\n",
              "       [-1.00859574],\n",
              "       [-1.08063982],\n",
              "       [-0.96834865],\n",
              "       [-0.87244219],\n",
              "       [-0.95572403],\n",
              "       [-1.03796499],\n",
              "       [-0.99581527],\n",
              "       [-0.90534881],\n",
              "       [-0.97422743],\n",
              "       [-0.90935454],\n",
              "       [-0.90159328],\n",
              "       [-0.95461019],\n",
              "       [-0.94206333],\n",
              "       [-1.03944592],\n",
              "       [-1.02007156],\n",
              "       [-0.91236001],\n",
              "       [-0.80430433],\n",
              "       [-0.81330596],\n",
              "       [-0.88030659],\n",
              "       [-0.97900498],\n",
              "       [-0.97826322],\n",
              "       [-0.91410148],\n",
              "       [-0.8785991 ],\n",
              "       [-0.77455916],\n",
              "       [-0.6775353 ],\n",
              "       [-0.77609009],\n",
              "       [-0.65585292],\n",
              "       [-0.70735   ],\n",
              "       [-0.65968742],\n",
              "       [-0.58557194],\n",
              "       [-0.5992647 ],\n",
              "       [-0.67004611],\n",
              "       [-0.63564663],\n",
              "       [-0.74320739],\n",
              "       [-0.63364804],\n",
              "       [-0.76393942],\n",
              "       [-0.91042902],\n",
              "       [-1.05366536],\n",
              "       [-1.23305601],\n",
              "       [-1.21717694],\n",
              "       [-1.15210705]])"
            ]
          },
          "metadata": {},
          "execution_count": 14
        }
      ]
    },
    {
      "cell_type": "code",
      "source": [
        "model = Sequential()\n",
        "model.add(LSTM(64, activation='relu', input_shape=(trainX.shape[1], trainX.shape[2]), return_sequences=True)) \n",
        "model.add(LSTM(32, activation='relu', return_sequences=False))\n",
        "model.add(Dropout(0.2))\n",
        "model.add(Dense(trainY.shape[1]))\n",
        "\n",
        "model.compile(optimizer='adam', loss='mse')\n",
        "model.summary()"
      ],
      "metadata": {
        "colab": {
          "base_uri": "https://localhost:8080/"
        },
        "id": "xLJ_fEZ8foI3",
        "outputId": "1e79d6b7-ac21-4e92-dfea-22056fe5c49a"
      },
      "execution_count": 15,
      "outputs": [
        {
          "output_type": "stream",
          "name": "stdout",
          "text": [
            "Model: \"sequential\"\n",
            "_________________________________________________________________\n",
            " Layer (type)                Output Shape              Param #   \n",
            "=================================================================\n",
            " lstm (LSTM)                 (None, 14, 64)            19200     \n",
            "                                                                 \n",
            " lstm_1 (LSTM)               (None, 32)                12416     \n",
            "                                                                 \n",
            " dropout (Dropout)           (None, 32)                0         \n",
            "                                                                 \n",
            " dense (Dense)               (None, 1)                 33        \n",
            "                                                                 \n",
            "=================================================================\n",
            "Total params: 31,649\n",
            "Trainable params: 31,649\n",
            "Non-trainable params: 0\n",
            "_________________________________________________________________\n"
          ]
        }
      ]
    },
    {
      "cell_type": "code",
      "source": [
        "history = model.fit(trainX, trainY, epochs=5, batch_size=3, validation_split=0.1, verbose=1)"
      ],
      "metadata": {
        "colab": {
          "base_uri": "https://localhost:8080/"
        },
        "id": "gR-gELFqhCt3",
        "outputId": "0505c130-afba-4839-be0a-5c44d9e1f754"
      },
      "execution_count": 16,
      "outputs": [
        {
          "output_type": "stream",
          "name": "stdout",
          "text": [
            "Epoch 1/5\n",
            "146/146 [==============================] - 6s 17ms/step - loss: 0.3128 - val_loss: 0.1198\n",
            "Epoch 2/5\n",
            "146/146 [==============================] - 2s 14ms/step - loss: 0.1174 - val_loss: 0.1096\n",
            "Epoch 3/5\n",
            "146/146 [==============================] - 2s 16ms/step - loss: 0.1049 - val_loss: 0.0910\n",
            "Epoch 4/5\n",
            "146/146 [==============================] - 3s 20ms/step - loss: 0.0789 - val_loss: 0.0480\n",
            "Epoch 5/5\n",
            "146/146 [==============================] - 2s 14ms/step - loss: 0.0813 - val_loss: 0.0923\n"
          ]
        }
      ]
    },
    {
      "cell_type": "code",
      "source": [
        "plt.plot(history.history['loss'], label='Training loss')\n",
        "plt.plot(history.history['val_loss'], label='Validation loss')\n",
        "plt.legend()"
      ],
      "metadata": {
        "colab": {
          "base_uri": "https://localhost:8080/",
          "height": 448
        },
        "id": "ReHWBQ1VhKzd",
        "outputId": "c0c89edd-01bc-49c4-fa7c-210fd421d6ee"
      },
      "execution_count": 17,
      "outputs": [
        {
          "output_type": "execute_result",
          "data": {
            "text/plain": [
              "<matplotlib.legend.Legend at 0x7f32218a7880>"
            ]
          },
          "metadata": {},
          "execution_count": 17
        },
        {
          "output_type": "display_data",
          "data": {
            "text/plain": [
              "<Figure size 640x480 with 1 Axes>"
            ],
            "image/png": "[encoded data removed]"
          },
          "metadata": {}
        }
      ]
    },
    {
      "cell_type": "code",
      "source": [
        "from pandas.tseries.holiday import USFederalHolidayCalendar\n",
        "from pandas.tseries.offsets import CustomBusinessDay\n",
        "us_bd = CustomBusinessDay(calendar=USFederalHolidayCalendar())"
      ],
      "metadata": {
        "id": "ncph6lCWjfQ_"
      },
      "execution_count": 18,
      "outputs": []
    },
    {
      "cell_type": "code",
      "source": [
        "df2= df.head(500)\n",
        "train_dates = pd.to_datetime(df2['Date'])\n",
        "print(train_dates.tail(15)) "
      ],
      "metadata": {
        "colab": {
          "base_uri": "https://localhost:8080/"
        },
        "id": "DSZrHFBYj7iK",
        "outputId": "6b1a0efc-a649-474f-fd4d-92e4ddccb703"
      },
      "execution_count": 19,
      "outputs": [
        {
          "output_type": "stream",
          "name": "stdout",
          "text": [
            "485   2009-06-30\n",
            "486   2009-07-31\n",
            "487   2009-08-31\n",
            "488   2009-09-30\n",
            "489   2009-10-30\n",
            "490   2009-11-30\n",
            "491   2009-12-31\n",
            "492   2010-01-29\n",
            "493   2010-02-26\n",
            "494   2010-03-31\n",
            "495   2010-04-30\n",
            "496   2010-05-31\n",
            "497   2010-06-30\n",
            "498   2010-07-30\n",
            "499   2010-08-31\n",
            "Name: Date, dtype: datetime64[ns]\n"
          ]
        }
      ]
    },
    {
      "cell_type": "code",
      "source": [
        "n_past = 500\n",
        "n_days_for_prediction=486  #let us predict past 15 days\n",
        "\n",
        "predict_period_dates = pd.date_range(list(train_dates)[-n_past], periods=n_days_for_prediction, freq='M').tolist()\n",
        "print(predict_period_dates)"
      ],
      "metadata": {
        "colab": {
          "base_uri": "https://localhost:8080/"
        },
        "id": "yAZn0dxejZ-b",
        "outputId": "a641cd70-c52f-4015-ce0a-efed45229cca"
      },
      "execution_count": 24,
      "outputs": [
        {
          "output_type": "stream",
          "name": "stdout",
          "text": [
            "[Timestamp('2006-07-31 00:00:00', freq='M'), Timestamp('2006-08-31 00:00:00', freq='M'), Timestamp('2006-09-30 00:00:00', freq='M'), Timestamp('2006-10-31 00:00:00', freq='M'), Timestamp('2006-11-30 00:00:00', freq='M'), Timestamp('2006-12-31 00:00:00', freq='M'), Timestamp('2007-01-31 00:00:00', freq='M'), Timestamp('2007-02-28 00:00:00', freq='M'), Timestamp('2007-03-31 00:00:00', freq='M'), Timestamp('2007-04-30 00:00:00', freq='M'), Timestamp('2007-05-31 00:00:00', freq='M'), Timestamp('2007-06-30 00:00:00', freq='M'), Timestamp('2007-07-31 00:00:00', freq='M'), Timestamp('2007-08-31 00:00:00', freq='M'), Timestamp('2007-09-30 00:00:00', freq='M'), Timestamp('2007-10-31 00:00:00', freq='M'), Timestamp('2007-11-30 00:00:00', freq='M'), Timestamp('2007-12-31 00:00:00', freq='M'), Timestamp('2008-01-31 00:00:00', freq='M'), Timestamp('2008-02-29 00:00:00', freq='M'), Timestamp('2008-03-31 00:00:00', freq='M'), Timestamp('2008-04-30 00:00:00', freq='M'), Timestamp('2008-05-31 00:00:00', freq='M'), Timestamp('2008-06-30 00:00:00', freq='M'), Timestamp('2008-07-31 00:00:00', freq='M'), Timestamp('2008-08-31 00:00:00', freq='M'), Timestamp('2008-09-30 00:00:00', freq='M'), Timestamp('2008-10-31 00:00:00', freq='M'), Timestamp('2008-11-30 00:00:00', freq='M'), Timestamp('2008-12-31 00:00:00', freq='M'), Timestamp('2009-01-31 00:00:00', freq='M'), Timestamp('2009-02-28 00:00:00', freq='M'), Timestamp('2009-03-31 00:00:00', freq='M'), Timestamp('2009-04-30 00:00:00', freq='M'), Timestamp('2009-05-31 00:00:00', freq='M'), Timestamp('2009-06-30 00:00:00', freq='M'), Timestamp('2009-07-31 00:00:00', freq='M'), Timestamp('2009-08-31 00:00:00', freq='M'), Timestamp('2009-09-30 00:00:00', freq='M'), Timestamp('2009-10-31 00:00:00', freq='M'), Timestamp('2009-11-30 00:00:00', freq='M'), Timestamp('2009-12-31 00:00:00', freq='M'), Timestamp('2010-01-31 00:00:00', freq='M'), Timestamp('2010-02-28 00:00:00', freq='M'), Timestamp('2010-03-31 00:00:00', freq='M'), Timestamp('2010-04-30 00:00:00', freq='M'), Timestamp('2010-05-31 00:00:00', freq='M'), Timestamp('2010-06-30 00:00:00', freq='M'), Timestamp('2010-07-31 00:00:00', freq='M'), Timestamp('2010-08-31 00:00:00', freq='M'), Timestamp('2010-09-30 00:00:00', freq='M'), Timestamp('2010-10-31 00:00:00', freq='M'), Timestamp('2010-11-30 00:00:00', freq='M'), Timestamp('2010-12-31 00:00:00', freq='M'), Timestamp('2011-01-31 00:00:00', freq='M'), Timestamp('2011-02-28 00:00:00', freq='M'), Timestamp('2011-03-31 00:00:00', freq='M'), Timestamp('2011-04-30 00:00:00', freq='M'), Timestamp('2011-05-31 00:00:00', freq='M'), Timestamp('2011-06-30 00:00:00', freq='M'), Timestamp('2011-07-31 00:00:00', freq='M'), Timestamp('2011-08-31 00:00:00', freq='M'), Timestamp('2011-09-30 00:00:00', freq='M'), Timestamp('2011-10-31 00:00:00', freq='M'), Timestamp('2011-11-30 00:00:00', freq='M'), Timestamp('2011-12-31 00:00:00', freq='M'), Timestamp('2012-01-31 00:00:00', freq='M'), Timestamp('2012-02-29 00:00:00', freq='M'), Timestamp('2012-03-31 00:00:00', freq='M'), Timestamp('2012-04-30 00:00:00', freq='M'), Timestamp('2012-05-31 00:00:00', freq='M'), Timestamp('2012-06-30 00:00:00', freq='M'), Timestamp('2012-07-31 00:00:00', freq='M'), Timestamp('2012-08-31 00:00:00', freq='M'), Timestamp('2012-09-30 00:00:00', freq='M'), Timestamp('2012-10-31 00:00:00', freq='M'), Timestamp('2012-11-30 00:00:00', freq='M'), Timestamp('2012-12-31 00:00:00', freq='M'), Timestamp('2013-01-31 00:00:00', freq='M'), Timestamp('2013-02-28 00:00:00', freq='M'), Timestamp('2013-03-31 00:00:00', freq='M'), Timestamp('2013-04-30 00:00:00', freq='M'), Timestamp('2013-05-31 00:00:00', freq='M'), Timestamp('2013-06-30 00:00:00', freq='M'), Timestamp('2013-07-31 00:00:00', freq='M'), Timestamp('2013-08-31 00:00:00', freq='M'), Timestamp('2013-09-30 00:00:00', freq='M'), Timestamp('2013-10-31 00:00:00', freq='M'), Timestamp('2013-11-30 00:00:00', freq='M'), Timestamp('2013-12-31 00:00:00', freq='M'), Timestamp('2014-01-31 00:00:00', freq='M'), Timestamp('2014-02-28 00:00:00', freq='M'), Timestamp('2014-03-31 00:00:00', freq='M'), Timestamp('2014-04-30 00:00:00', freq='M'), Timestamp('2014-05-31 00:00:00', freq='M'), Timestamp('2014-06-30 00:00:00', freq='M'), Timestamp('2014-07-31 00:00:00', freq='M'), Timestamp('2014-08-31 00:00:00', freq='M'), Timestamp('2014-09-30 00:00:00', freq='M'), Timestamp('2014-10-31 00:00:00', freq='M'), Timestamp('2014-11-30 00:00:00', freq='M'), Timestamp('2014-12-31 00:00:00', freq='M'), Timestamp('2015-01-31 00:00:00', freq='M'), Timestamp('2015-02-28 00:00:00', freq='M'), Timestamp('2015-03-31 00:00:00', freq='M'), Timestamp('2015-04-30 00:00:00', freq='M'), Timestamp('2015-05-31 00:00:00', freq='M'), Timestamp('2015-06-30 00:00:00', freq='M'), Timestamp('2015-07-31 00:00:00', freq='M'), Timestamp('2015-08-31 00:00:00', freq='M'), Timestamp('2015-09-30 00:00:00', freq='M'), Timestamp('2015-10-31 00:00:00', freq='M'), Timestamp('2015-11-30 00:00:00', freq='M'), Timestamp('2015-12-31 00:00:00', freq='M'), Timestamp('2016-01-31 00:00:00', freq='M'), Timestamp('2016-02-29 00:00:00', freq='M'), Timestamp('2016-03-31 00:00:00', freq='M'), Timestamp('2016-04-30 00:00:00', freq='M'), Timestamp('2016-05-31 00:00:00', freq='M'), Timestamp('2016-06-30 00:00:00', freq='M'), Timestamp('2016-07-31 00:00:00', freq='M'), Timestamp('2016-08-31 00:00:00', freq='M'), Timestamp('2016-09-30 00:00:00', freq='M'), Timestamp('2016-10-31 00:00:00', freq='M'), Timestamp('2016-11-30 00:00:00', freq='M'), Timestamp('2016-12-31 00:00:00', freq='M'), Timestamp('2017-01-31 00:00:00', freq='M'), Timestamp('2017-02-28 00:00:00', freq='M'), Timestamp('2017-03-31 00:00:00', freq='M'), Timestamp('2017-04-30 00:00:00', freq='M'), Timestamp('2017-05-31 00:00:00', freq='M'), Timestamp('2017-06-30 00:00:00', freq='M'), Timestamp('2017-07-31 00:00:00', freq='M'), Timestamp('2017-08-31 00:00:00', freq='M'), Timestamp('2017-09-30 00:00:00', freq='M'), Timestamp('2017-10-31 00:00:00', freq='M'), Timestamp('2017-11-30 00:00:00', freq='M'), Timestamp('2017-12-31 00:00:00', freq='M'), Timestamp('2018-01-31 00:00:00', freq='M'), Timestamp('2018-02-28 00:00:00', freq='M'), Timestamp('2018-03-31 00:00:00', freq='M'), Timestamp('2018-04-30 00:00:00', freq='M'), Timestamp('2018-05-31 00:00:00', freq='M'), Timestamp('2018-06-30 00:00:00', freq='M'), Timestamp('2018-07-31 00:00:00', freq='M'), Timestamp('2018-08-31 00:00:00', freq='M'), Timestamp('2018-09-30 00:00:00', freq='M'), Timestamp('2018-10-31 00:00:00', freq='M'), Timestamp('2018-11-30 00:00:00', freq='M'), Timestamp('2018-12-31 00:00:00', freq='M'), Timestamp('2019-01-31 00:00:00', freq='M'), Timestamp('2019-02-28 00:00:00', freq='M'), Timestamp('2019-03-31 00:00:00', freq='M'), Timestamp('2019-04-30 00:00:00', freq='M'), Timestamp('2019-05-31 00:00:00', freq='M'), Timestamp('2019-06-30 00:00:00', freq='M'), Timestamp('2019-07-31 00:00:00', freq='M'), Timestamp('2019-08-31 00:00:00', freq='M'), Timestamp('2019-09-30 00:00:00', freq='M'), Timestamp('2019-10-31 00:00:00', freq='M'), Timestamp('2019-11-30 00:00:00', freq='M'), Timestamp('2019-12-31 00:00:00', freq='M'), Timestamp('2020-01-31 00:00:00', freq='M'), Timestamp('2020-02-29 00:00:00', freq='M'), Timestamp('2020-03-31 00:00:00', freq='M'), Timestamp('2020-04-30 00:00:00', freq='M'), Timestamp('2020-05-31 00:00:00', freq='M'), Timestamp('2020-06-30 00:00:00', freq='M'), Timestamp('2020-07-31 00:00:00', freq='M'), Timestamp('2020-08-31 00:00:00', freq='M'), Timestamp('2020-09-30 00:00:00', freq='M'), Timestamp('2020-10-31 00:00:00', freq='M'), Timestamp('2020-11-30 00:00:00', freq='M'), Timestamp('2020-12-31 00:00:00', freq='M'), Timestamp('2021-01-31 00:00:00', freq='M'), Timestamp('2021-02-28 00:00:00', freq='M'), Timestamp('2021-03-31 00:00:00', freq='M'), Timestamp('2021-04-30 00:00:00', freq='M'), Timestamp('2021-05-31 00:00:00', freq='M'), Timestamp('2021-06-30 00:00:00', freq='M'), Timestamp('2021-07-31 00:00:00', freq='M'), Timestamp('2021-08-31 00:00:00', freq='M'), Timestamp('2021-09-30 00:00:00', freq='M'), Timestamp('2021-10-31 00:00:00', freq='M'), Timestamp('2021-11-30 00:00:00', freq='M'), Timestamp('2021-12-31 00:00:00', freq='M'), Timestamp('2022-01-31 00:00:00', freq='M'), Timestamp('2022-02-28 00:00:00', freq='M'), Timestamp('2022-03-31 00:00:00', freq='M'), Timestamp('2022-04-30 00:00:00', freq='M'), Timestamp('2022-05-31 00:00:00', freq='M'), Timestamp('2022-06-30 00:00:00', freq='M'), Timestamp('2022-07-31 00:00:00', freq='M'), Timestamp('2022-08-31 00:00:00', freq='M'), Timestamp('2022-09-30 00:00:00', freq='M'), Timestamp('2022-10-31 00:00:00', freq='M'), Timestamp('2022-11-30 00:00:00', freq='M'), Timestamp('2022-12-31 00:00:00', freq='M'), Timestamp('2023-01-31 00:00:00', freq='M'), Timestamp('2023-02-28 00:00:00', freq='M'), Timestamp('2023-03-31 00:00:00', freq='M'), Timestamp('2023-04-30 00:00:00', freq='M'), Timestamp('2023-05-31 00:00:00', freq='M'), Timestamp('2023-06-30 00:00:00', freq='M'), Timestamp('2023-07-31 00:00:00', freq='M'), Timestamp('2023-08-31 00:00:00', freq='M'), Timestamp('2023-09-30 00:00:00', freq='M'), Timestamp('2023-10-31 00:00:00', freq='M'), Timestamp('2023-11-30 00:00:00', freq='M'), Timestamp('2023-12-31 00:00:00', freq='M'), Timestamp('2024-01-31 00:00:00', freq='M'), Timestamp('2024-02-29 00:00:00', freq='M'), Timestamp('2024-03-31 00:00:00', freq='M'), Timestamp('2024-04-30 00:00:00', freq='M'), Timestamp('2024-05-31 00:00:00', freq='M'), Timestamp('2024-06-30 00:00:00', freq='M'), Timestamp('2024-07-31 00:00:00', freq='M'), Timestamp('2024-08-31 00:00:00', freq='M'), Timestamp('2024-09-30 00:00:00', freq='M'), Timestamp('2024-10-31 00:00:00', freq='M'), Timestamp('2024-11-30 00:00:00', freq='M'), Timestamp('2024-12-31 00:00:00', freq='M'), Timestamp('2025-01-31 00:00:00', freq='M'), Timestamp('2025-02-28 00:00:00', freq='M'), Timestamp('2025-03-31 00:00:00', freq='M'), Timestamp('2025-04-30 00:00:00', freq='M'), Timestamp('2025-05-31 00:00:00', freq='M'), Timestamp('2025-06-30 00:00:00', freq='M'), Timestamp('2025-07-31 00:00:00', freq='M'), Timestamp('2025-08-31 00:00:00', freq='M'), Timestamp('2025-09-30 00:00:00', freq='M'), Timestamp('2025-10-31 00:00:00', freq='M'), Timestamp('2025-11-30 00:00:00', freq='M'), Timestamp('2025-12-31 00:00:00', freq='M'), Timestamp('2026-01-31 00:00:00', freq='M'), Timestamp('2026-02-28 00:00:00', freq='M'), Timestamp('2026-03-31 00:00:00', freq='M'), Timestamp('2026-04-30 00:00:00', freq='M'), Timestamp('2026-05-31 00:00:00', freq='M'), Timestamp('2026-06-30 00:00:00', freq='M'), Timestamp('2026-07-31 00:00:00', freq='M'), Timestamp('2026-08-31 00:00:00', freq='M'), Timestamp('2026-09-30 00:00:00', freq='M'), Timestamp('2026-10-31 00:00:00', freq='M'), Timestamp('2026-11-30 00:00:00', freq='M'), Timestamp('2026-12-31 00:00:00', freq='M'), Timestamp('2027-01-31 00:00:00', freq='M'), Timestamp('2027-02-28 00:00:00', freq='M'), Timestamp('2027-03-31 00:00:00', freq='M'), Timestamp('2027-04-30 00:00:00', freq='M'), Timestamp('2027-05-31 00:00:00', freq='M'), Timestamp('2027-06-30 00:00:00', freq='M'), Timestamp('2027-07-31 00:00:00', freq='M'), Timestamp('2027-08-31 00:00:00', freq='M'), Timestamp('2027-09-30 00:00:00', freq='M'), Timestamp('2027-10-31 00:00:00', freq='M'), Timestamp('2027-11-30 00:00:00', freq='M'), Timestamp('2027-12-31 00:00:00', freq='M'), Timestamp('2028-01-31 00:00:00', freq='M'), Timestamp('2028-02-29 00:00:00', freq='M'), Timestamp('2028-03-31 00:00:00', freq='M'), Timestamp('2028-04-30 00:00:00', freq='M'), Timestamp('2028-05-31 00:00:00', freq='M'), Timestamp('2028-06-30 00:00:00', freq='M'), Timestamp('2028-07-31 00:00:00', freq='M'), Timestamp('2028-08-31 00:00:00', freq='M'), Timestamp('2028-09-30 00:00:00', freq='M'), Timestamp('2028-10-31 00:00:00', freq='M'), Timestamp('2028-11-30 00:00:00', freq='M'), Timestamp('2028-12-31 00:00:00', freq='M'), Timestamp('2029-01-31 00:00:00', freq='M'), Timestamp('2029-02-28 00:00:00', freq='M'), Timestamp('2029-03-31 00:00:00', freq='M'), Timestamp('2029-04-30 00:00:00', freq='M'), Timestamp('2029-05-31 00:00:00', freq='M'), Timestamp('2029-06-30 00:00:00', freq='M'), Timestamp('2029-07-31 00:00:00', freq='M'), Timestamp('2029-08-31 00:00:00', freq='M'), Timestamp('2029-09-30 00:00:00', freq='M'), Timestamp('2029-10-31 00:00:00', freq='M'), Timestamp('2029-11-30 00:00:00', freq='M'), Timestamp('2029-12-31 00:00:00', freq='M'), Timestamp('2030-01-31 00:00:00', freq='M'), Timestamp('2030-02-28 00:00:00', freq='M'), Timestamp('2030-03-31 00:00:00', freq='M'), Timestamp('2030-04-30 00:00:00', freq='M'), Timestamp('2030-05-31 00:00:00', freq='M'), Timestamp('2030-06-30 00:00:00', freq='M'), Timestamp('2030-07-31 00:00:00', freq='M'), Timestamp('2030-08-31 00:00:00', freq='M'), Timestamp('2030-09-30 00:00:00', freq='M'), Timestamp('2030-10-31 00:00:00', freq='M'), Timestamp('2030-11-30 00:00:00', freq='M'), Timestamp('2030-12-31 00:00:00', freq='M'), Timestamp('2031-01-31 00:00:00', freq='M'), Timestamp('2031-02-28 00:00:00', freq='M'), Timestamp('2031-03-31 00:00:00', freq='M'), Timestamp('2031-04-30 00:00:00', freq='M'), Timestamp('2031-05-31 00:00:00', freq='M'), Timestamp('2031-06-30 00:00:00', freq='M'), Timestamp('2031-07-31 00:00:00', freq='M'), Timestamp('2031-08-31 00:00:00', freq='M'), Timestamp('2031-09-30 00:00:00', freq='M'), Timestamp('2031-10-31 00:00:00', freq='M'), Timestamp('2031-11-30 00:00:00', freq='M'), Timestamp('2031-12-31 00:00:00', freq='M'), Timestamp('2032-01-31 00:00:00', freq='M'), Timestamp('2032-02-29 00:00:00', freq='M'), Timestamp('2032-03-31 00:00:00', freq='M'), Timestamp('2032-04-30 00:00:00', freq='M'), Timestamp('2032-05-31 00:00:00', freq='M'), Timestamp('2032-06-30 00:00:00', freq='M'), Timestamp('2032-07-31 00:00:00', freq='M'), Timestamp('2032-08-31 00:00:00', freq='M'), Timestamp('2032-09-30 00:00:00', freq='M'), Timestamp('2032-10-31 00:00:00', freq='M'), Timestamp('2032-11-30 00:00:00', freq='M'), Timestamp('2032-12-31 00:00:00', freq='M'), Timestamp('2033-01-31 00:00:00', freq='M'), Timestamp('2033-02-28 00:00:00', freq='M'), Timestamp('2033-03-31 00:00:00', freq='M'), Timestamp('2033-04-30 00:00:00', freq='M'), Timestamp('2033-05-31 00:00:00', freq='M'), Timestamp('2033-06-30 00:00:00', freq='M'), Timestamp('2033-07-31 00:00:00', freq='M'), Timestamp('2033-08-31 00:00:00', freq='M'), Timestamp('2033-09-30 00:00:00', freq='M'), Timestamp('2033-10-31 00:00:00', freq='M'), Timestamp('2033-11-30 00:00:00', freq='M'), Timestamp('2033-12-31 00:00:00', freq='M'), Timestamp('2034-01-31 00:00:00', freq='M'), Timestamp('2034-02-28 00:00:00', freq='M'), Timestamp('2034-03-31 00:00:00', freq='M'), Timestamp('2034-04-30 00:00:00', freq='M'), Timestamp('2034-05-31 00:00:00', freq='M'), Timestamp('2034-06-30 00:00:00', freq='M'), Timestamp('2034-07-31 00:00:00', freq='M'), Timestamp('2034-08-31 00:00:00', freq='M'), Timestamp('2034-09-30 00:00:00', freq='M'), Timestamp('2034-10-31 00:00:00', freq='M'), Timestamp('2034-11-30 00:00:00', freq='M'), Timestamp('2034-12-31 00:00:00', freq='M'), Timestamp('2035-01-31 00:00:00', freq='M'), Timestamp('2035-02-28 00:00:00', freq='M'), Timestamp('2035-03-31 00:00:00', freq='M'), Timestamp('2035-04-30 00:00:00', freq='M'), Timestamp('2035-05-31 00:00:00', freq='M'), Timestamp('2035-06-30 00:00:00', freq='M'), Timestamp('2035-07-31 00:00:00', freq='M'), Timestamp('2035-08-31 00:00:00', freq='M'), Timestamp('2035-09-30 00:00:00', freq='M'), Timestamp('2035-10-31 00:00:00', freq='M'), Timestamp('2035-11-30 00:00:00', freq='M'), Timestamp('2035-12-31 00:00:00', freq='M'), Timestamp('2036-01-31 00:00:00', freq='M'), Timestamp('2036-02-29 00:00:00', freq='M'), Timestamp('2036-03-31 00:00:00', freq='M'), Timestamp('2036-04-30 00:00:00', freq='M'), Timestamp('2036-05-31 00:00:00', freq='M'), Timestamp('2036-06-30 00:00:00', freq='M'), Timestamp('2036-07-31 00:00:00', freq='M'), Timestamp('2036-08-31 00:00:00', freq='M'), Timestamp('2036-09-30 00:00:00', freq='M'), Timestamp('2036-10-31 00:00:00', freq='M'), Timestamp('2036-11-30 00:00:00', freq='M'), Timestamp('2036-12-31 00:00:00', freq='M'), Timestamp('2037-01-31 00:00:00', freq='M'), Timestamp('2037-02-28 00:00:00', freq='M'), Timestamp('2037-03-31 00:00:00', freq='M'), Timestamp('2037-04-30 00:00:00', freq='M'), Timestamp('2037-05-31 00:00:00', freq='M'), Timestamp('2037-06-30 00:00:00', freq='M'), Timestamp('2037-07-31 00:00:00', freq='M'), Timestamp('2037-08-31 00:00:00', freq='M'), Timestamp('2037-09-30 00:00:00', freq='M'), Timestamp('2037-10-31 00:00:00', freq='M'), Timestamp('2037-11-30 00:00:00', freq='M'), Timestamp('2037-12-31 00:00:00', freq='M'), Timestamp('2038-01-31 00:00:00', freq='M'), Timestamp('2038-02-28 00:00:00', freq='M'), Timestamp('2038-03-31 00:00:00', freq='M'), Timestamp('2038-04-30 00:00:00', freq='M'), Timestamp('2038-05-31 00:00:00', freq='M'), Timestamp('2038-06-30 00:00:00', freq='M'), Timestamp('2038-07-31 00:00:00', freq='M'), Timestamp('2038-08-31 00:00:00', freq='M'), Timestamp('2038-09-30 00:00:00', freq='M'), Timestamp('2038-10-31 00:00:00', freq='M'), Timestamp('2038-11-30 00:00:00', freq='M'), Timestamp('2038-12-31 00:00:00', freq='M'), Timestamp('2039-01-31 00:00:00', freq='M'), Timestamp('2039-02-28 00:00:00', freq='M'), Timestamp('2039-03-31 00:00:00', freq='M'), Timestamp('2039-04-30 00:00:00', freq='M'), Timestamp('2039-05-31 00:00:00', freq='M'), Timestamp('2039-06-30 00:00:00', freq='M'), Timestamp('2039-07-31 00:00:00', freq='M'), Timestamp('2039-08-31 00:00:00', freq='M'), Timestamp('2039-09-30 00:00:00', freq='M'), Timestamp('2039-10-31 00:00:00', freq='M'), Timestamp('2039-11-30 00:00:00', freq='M'), Timestamp('2039-12-31 00:00:00', freq='M'), Timestamp('2040-01-31 00:00:00', freq='M'), Timestamp('2040-02-29 00:00:00', freq='M'), Timestamp('2040-03-31 00:00:00', freq='M'), Timestamp('2040-04-30 00:00:00', freq='M'), Timestamp('2040-05-31 00:00:00', freq='M'), Timestamp('2040-06-30 00:00:00', freq='M'), Timestamp('2040-07-31 00:00:00', freq='M'), Timestamp('2040-08-31 00:00:00', freq='M'), Timestamp('2040-09-30 00:00:00', freq='M'), Timestamp('2040-10-31 00:00:00', freq='M'), Timestamp('2040-11-30 00:00:00', freq='M'), Timestamp('2040-12-31 00:00:00', freq='M'), Timestamp('2041-01-31 00:00:00', freq='M'), Timestamp('2041-02-28 00:00:00', freq='M'), Timestamp('2041-03-31 00:00:00', freq='M'), Timestamp('2041-04-30 00:00:00', freq='M'), Timestamp('2041-05-31 00:00:00', freq='M'), Timestamp('2041-06-30 00:00:00', freq='M'), Timestamp('2041-07-31 00:00:00', freq='M'), Timestamp('2041-08-31 00:00:00', freq='M'), Timestamp('2041-09-30 00:00:00', freq='M'), Timestamp('2041-10-31 00:00:00', freq='M'), Timestamp('2041-11-30 00:00:00', freq='M'), Timestamp('2041-12-31 00:00:00', freq='M'), Timestamp('2042-01-31 00:00:00', freq='M'), Timestamp('2042-02-28 00:00:00', freq='M'), Timestamp('2042-03-31 00:00:00', freq='M'), Timestamp('2042-04-30 00:00:00', freq='M'), Timestamp('2042-05-31 00:00:00', freq='M'), Timestamp('2042-06-30 00:00:00', freq='M'), Timestamp('2042-07-31 00:00:00', freq='M'), Timestamp('2042-08-31 00:00:00', freq='M'), Timestamp('2042-09-30 00:00:00', freq='M'), Timestamp('2042-10-31 00:00:00', freq='M'), Timestamp('2042-11-30 00:00:00', freq='M'), Timestamp('2042-12-31 00:00:00', freq='M'), Timestamp('2043-01-31 00:00:00', freq='M'), Timestamp('2043-02-28 00:00:00', freq='M'), Timestamp('2043-03-31 00:00:00', freq='M'), Timestamp('2043-04-30 00:00:00', freq='M'), Timestamp('2043-05-31 00:00:00', freq='M'), Timestamp('2043-06-30 00:00:00', freq='M'), Timestamp('2043-07-31 00:00:00', freq='M'), Timestamp('2043-08-31 00:00:00', freq='M'), Timestamp('2043-09-30 00:00:00', freq='M'), Timestamp('2043-10-31 00:00:00', freq='M'), Timestamp('2043-11-30 00:00:00', freq='M'), Timestamp('2043-12-31 00:00:00', freq='M'), Timestamp('2044-01-31 00:00:00', freq='M'), Timestamp('2044-02-29 00:00:00', freq='M'), Timestamp('2044-03-31 00:00:00', freq='M'), Timestamp('2044-04-30 00:00:00', freq='M'), Timestamp('2044-05-31 00:00:00', freq='M'), Timestamp('2044-06-30 00:00:00', freq='M'), Timestamp('2044-07-31 00:00:00', freq='M'), Timestamp('2044-08-31 00:00:00', freq='M'), Timestamp('2044-09-30 00:00:00', freq='M'), Timestamp('2044-10-31 00:00:00', freq='M'), Timestamp('2044-11-30 00:00:00', freq='M'), Timestamp('2044-12-31 00:00:00', freq='M'), Timestamp('2045-01-31 00:00:00', freq='M'), Timestamp('2045-02-28 00:00:00', freq='M'), Timestamp('2045-03-31 00:00:00', freq='M'), Timestamp('2045-04-30 00:00:00', freq='M'), Timestamp('2045-05-31 00:00:00', freq='M'), Timestamp('2045-06-30 00:00:00', freq='M'), Timestamp('2045-07-31 00:00:00', freq='M'), Timestamp('2045-08-31 00:00:00', freq='M'), Timestamp('2045-09-30 00:00:00', freq='M'), Timestamp('2045-10-31 00:00:00', freq='M'), Timestamp('2045-11-30 00:00:00', freq='M'), Timestamp('2045-12-31 00:00:00', freq='M'), Timestamp('2046-01-31 00:00:00', freq='M'), Timestamp('2046-02-28 00:00:00', freq='M'), Timestamp('2046-03-31 00:00:00', freq='M'), Timestamp('2046-04-30 00:00:00', freq='M'), Timestamp('2046-05-31 00:00:00', freq='M'), Timestamp('2046-06-30 00:00:00', freq='M'), Timestamp('2046-07-31 00:00:00', freq='M'), Timestamp('2046-08-31 00:00:00', freq='M'), Timestamp('2046-09-30 00:00:00', freq='M'), Timestamp('2046-10-31 00:00:00', freq='M'), Timestamp('2046-11-30 00:00:00', freq='M'), Timestamp('2046-12-31 00:00:00', freq='M')]\n"
          ]
        }
      ]
    },
    {
      "cell_type": "code",
      "source": [
        "prediction = model.predict(trainX[-n_days_for_prediction:]) "
      ],
      "metadata": {
        "colab": {
          "base_uri": "https://localhost:8080/"
        },
        "id": "omuhi-fFjuzK",
        "outputId": "f103d639-45b4-4e1d-9b19-1efd81af8828"
      },
      "execution_count": 25,
      "outputs": [
        {
          "output_type": "stream",
          "name": "stdout",
          "text": [
            "16/16 [==============================] - 0s 5ms/step\n"
          ]
        }
      ]
    },
    {
      "cell_type": "code",
      "source": [
        "prediction_copies = np.repeat(prediction, df_for_training.shape[1], axis=-1)\n",
        "y_pred_future = scaler.inverse_transform(prediction_copies)[:,9]"
      ],
      "metadata": {
        "id": "A68cGGUlkLp7"
      },
      "execution_count": 26,
      "outputs": []
    },
    {
      "cell_type": "code",
      "source": [
        "forecast_dates = []\n",
        "for time_i in predict_period_dates:\n",
        "    forecast_dates.append(time_i.date())\n",
        "    \n",
        "df_forecast = pd.DataFrame({'Date':np.array(forecast_dates), 'price':y_pred_future})\n",
        "df_forecast['Date']=pd.to_datetime(df_forecast['Date'])"
      ],
      "metadata": {
        "id": "RRg0e30rkPIK"
      },
      "execution_count": 27,
      "outputs": []
    },
    {
      "cell_type": "code",
      "source": [
        "original = df[['Date', 'price']]\n",
        "original['Date']=pd.to_datetime(original['Date'])\n",
        "original =original.head(486)\n",
        "print(original)"
      ],
      "metadata": {
        "colab": {
          "base_uri": "https://localhost:8080/"
        },
        "id": "7PbdmSaPkUK7",
        "outputId": "275484ac-60c0-4c43-fb0d-4ed112e56ad7"
      },
      "execution_count": 31,
      "outputs": [
        {
          "output_type": "stream",
          "name": "stdout",
          "text": [
            "          Date       price\n",
            "0   2006-07-31  100.000000\n",
            "1   2006-08-31  101.924169\n",
            "2   2006-09-29  103.166191\n",
            "3   2006-10-31  104.478956\n",
            "4   2006-11-30  104.160907\n",
            "..         ...         ...\n",
            "481 2009-02-27   99.584575\n",
            "482 2009-03-31  100.508301\n",
            "483 2009-04-30  101.369735\n",
            "484 2009-05-29  100.494709\n",
            "485 2009-06-30  101.562244\n",
            "\n",
            "[486 rows x 2 columns]\n"
          ]
        },
        {
          "output_type": "stream",
          "name": "stderr",
          "text": [
            "<ipython-input-31-d10f0082f74e>:2: SettingWithCopyWarning: \n",
            "A value is trying to be set on a copy of a slice from a DataFrame.\n",
            "Try using .loc[row_indexer,col_indexer] = value instead\n",
            "\n",
            "See the caveats in the documentation: https://pandas.pydata.org/pandas-docs/stable/user_guide/indexing.html#returning-a-view-versus-a-copy\n",
            "  original['Date']=pd.to_datetime(original['Date'])\n"
          ]
        }
      ]
    },
    {
      "cell_type": "code",
      "source": [
        "df_forecast"
      ],
      "metadata": {
        "colab": {
          "base_uri": "https://localhost:8080/",
          "height": 424
        },
        "id": "uQKHlrzh2Jl6",
        "outputId": "baf39751-ae76-4a8c-971b-06f792e2bf3c"
      },
      "execution_count": 32,
      "outputs": [
        {
          "output_type": "execute_result",
          "data": {
            "text/plain": [
              "          Date       price\n",
              "0   2006-07-31  107.773170\n",
              "1   2006-08-31  107.347366\n",
              "2   2006-09-30  107.833870\n",
              "3   2006-10-31  107.539314\n",
              "4   2006-11-30  107.360207\n",
              "..         ...         ...\n",
              "481 2046-08-31  101.290543\n",
              "482 2046-09-30  100.614441\n",
              "483 2046-10-31   99.630684\n",
              "484 2046-11-30   99.686386\n",
              "485 2046-12-31  100.123314\n",
              "\n",
              "[486 rows x 2 columns]"
            ],
            "text/html": [
              "\n",
              "  <div id=\"df-d28a7404-eb4b-499e-acbe-a170644f90e1\">\n",
              "    <div class=\"colab-df-container\">\n",
              "      <div>\n",
              "<style scoped>\n",
              "    .dataframe tbody tr th:only-of-type {\n",
              "        vertical-align: middle;\n",
              "    }\n",
              "\n",
              "    .dataframe tbody tr th {\n",
              "        vertical-align: top;\n",
              "    }\n",
              "\n",
              "    .dataframe thead th {\n",
              "        text-align: right;\n",
              "    }\n",
              "</style>\n",
              "<table border=\"1\" class=\"dataframe\">\n",
              "  <thead>\n",
              "    <tr style=\"text-align: right;\">\n",
              "      <th></th>\n",
              "      <th>Date</th>\n",
              "      <th>price</th>\n",
              "    </tr>\n",
              "  </thead>\n",
              "  <tbody>\n",
              "    <tr>\n",
              "      <th>0</th>\n",
              "      <td>2006-07-31</td>\n",
              "      <td>107.773170</td>\n",
              "    </tr>\n",
              "    <tr>\n",
              "      <th>1</th>\n",
              "      <td>2006-08-31</td>\n",
              "      <td>107.347366</td>\n",
              "    </tr>\n",
              "    <tr>\n",
              "      <th>2</th>\n",
              "      <td>2006-09-30</td>\n",
              "      <td>107.833870</td>\n",
              "    </tr>\n",
              "    <tr>\n",
              "      <th>3</th>\n",
              "      <td>2006-10-31</td>\n",
              "      <td>107.539314</td>\n",
              "    </tr>\n",
              "    <tr>\n",
              "      <th>4</th>\n",
              "      <td>2006-11-30</td>\n",
              "      <td>107.360207</td>\n",
              "    </tr>\n",
              "    <tr>\n",
              "      <th>...</th>\n",
              "      <td>...</td>\n",
              "      <td>...</td>\n",
              "    </tr>\n",
              "    <tr>\n",
              "      <th>481</th>\n",
              "      <td>2046-08-31</td>\n",
              "      <td>101.290543</td>\n",
              "    </tr>\n",
              "    <tr>\n",
              "      <th>482</th>\n",
              "      <td>2046-09-30</td>\n",
              "      <td>100.614441</td>\n",
              "    </tr>\n",
              "    <tr>\n",
              "      <th>483</th>\n",
              "      <td>2046-10-31</td>\n",
              "      <td>99.630684</td>\n",
              "    </tr>\n",
              "    <tr>\n",
              "      <th>484</th>\n",
              "      <td>2046-11-30</td>\n",
              "      <td>99.686386</td>\n",
              "    </tr>\n",
              "    <tr>\n",
              "      <th>485</th>\n",
              "      <td>2046-12-31</td>\n",
              "      <td>100.123314</td>\n",
              "    </tr>\n",
              "  </tbody>\n",
              "</table>\n",
              "<p>486 rows × 2 columns</p>\n",
              "</div>\n",
              "      <button class=\"colab-df-convert\" onclick=\"convertToInteractive('df-d28a7404-eb4b-499e-acbe-a170644f90e1')\"\n",
              "              title=\"Convert this dataframe to an interactive table.\"\n",
              "              style=\"display:none;\">\n",
              "        \n",
              "  <svg xmlns=\"http://www.w3.org/2000/svg\" height=\"24px\"viewBox=\"0 0 24 24\"\n",
              "       width=\"24px\">\n",
              "    <path d=\"M0 0h24v24H0V0z\" fill=\"none\"/>\n",
              "    <path d=\"M18.56 5.44l.94 2.06.94-2.06 2.06-.94-2.06-.94-.94-2.06-.94 2.06-2.06.94zm-11 1L8.5 8.5l.94-2.06 2.06-.94-2.06-.94L8.5 2.5l-.94 2.06-2.06.94zm10 10l.94 2.06.94-2.06 2.06-.94-2.06-.94-.94-2.06-.94 2.06-2.06.94z\"/><path d=\"M17.41 7.96l-1.37-1.37c-.4-.4-.92-.59-1.43-.59-.52 0-1.04.2-1.43.59L10.3 9.45l-7.72 7.72c-.78.78-.78 2.05 0 2.83L4 21.41c.39.39.9.59 1.41.59.51 0 1.02-.2 1.41-.59l7.78-7.78 2.81-2.81c.8-.78.8-2.07 0-2.86zM5.41 20L4 18.59l7.72-7.72 1.47 1.35L5.41 20z\"/>\n",
              "  </svg>\n",
              "      </button>\n",
              "      \n",
              "  <style>\n",
              "    .colab-df-container {\n",
              "      display:flex;\n",
              "      flex-wrap:wrap;\n",
              "      gap: 12px;\n",
              "    }\n",
              "\n",
              "    .colab-df-convert {\n",
              "      background-color: #E8F0FE;\n",
              "      border: none;\n",
              "      border-radius: 50%;\n",
              "      cursor: pointer;\n",
              "      display: none;\n",
              "      fill: #1967D2;\n",
              "      height: 32px;\n",
              "      padding: 0 0 0 0;\n",
              "      width: 32px;\n",
              "    }\n",
              "\n",
              "    .colab-df-convert:hover {\n",
              "      background-color: #E2EBFA;\n",
              "      box-shadow: 0px 1px 2px rgba(60, 64, 67, 0.3), 0px 1px 3px 1px rgba(60, 64, 67, 0.15);\n",
              "      fill: #174EA6;\n",
              "    }\n",
              "\n",
              "    [theme=dark] .colab-df-convert {\n",
              "      background-color: #3B4455;\n",
              "      fill: #D2E3FC;\n",
              "    }\n",
              "\n",
              "    [theme=dark] .colab-df-convert:hover {\n",
              "      background-color: #434B5C;\n",
              "      box-shadow: 0px 1px 3px 1px rgba(0, 0, 0, 0.15);\n",
              "      filter: drop-shadow(0px 1px 2px rgba(0, 0, 0, 0.3));\n",
              "      fill: #FFFFFF;\n",
              "    }\n",
              "  </style>\n",
              "\n",
              "      <script>\n",
              "        const buttonEl =\n",
              "          document.querySelector('#df-d28a7404-eb4b-499e-acbe-a170644f90e1 button.colab-df-convert');\n",
              "        buttonEl.style.display =\n",
              "          google.colab.kernel.accessAllowed ? 'block' : 'none';\n",
              "\n",
              "        async function convertToInteractive(key) {\n",
              "          const element = document.querySelector('#df-d28a7404-eb4b-499e-acbe-a170644f90e1');\n",
              "          const dataTable =\n",
              "            await google.colab.kernel.invokeFunction('convertToInteractive',\n",
              "                                                     [key], {});\n",
              "          if (!dataTable) return;\n",
              "\n",
              "          const docLinkHtml = 'Like what you see? Visit the ' +\n",
              "            '<a target=\"_blank\" href=https://colab.research.google.com/notebooks/data_table.ipynb>data table notebook</a>'\n",
              "            + ' to learn more about interactive tables.';\n",
              "          element.innerHTML = '';\n",
              "          dataTable['output_type'] = 'display_data';\n",
              "          await google.colab.output.renderOutput(dataTable, element);\n",
              "          const docLink = document.createElement('div');\n",
              "          docLink.innerHTML = docLinkHtml;\n",
              "          element.appendChild(docLink);\n",
              "        }\n",
              "      </script>\n",
              "    </div>\n",
              "  </div>\n",
              "  "
            ]
          },
          "metadata": {},
          "execution_count": 32
        }
      ]
    },
    {
      "cell_type": "code",
      "source": [
        "#RMSE calculation\n",
        "original[\"calc\"]= ((df_forecast[\"price\"]-original[\"price\"])/original[\"price\"])**2\n",
        "\n",
        "print(\"The RMSE is\",(((original[\"calc\"].sum())/486)**1/2)*100)\n",
        "print(\"The Efficiency is\",(100-(((original[\"calc\"].sum())/686)**1/2)*100))\n",
        "\n",
        "\n"
      ],
      "metadata": {
        "colab": {
          "base_uri": "https://localhost:8080/"
        },
        "id": "W5TZmc3L6WYR",
        "outputId": "5282b0c9-2944-4f93-a4ec-03965a650cf8"
      },
      "execution_count": 39,
      "outputs": [
        {
          "output_type": "stream",
          "name": "stdout",
          "text": [
            "The RMSE is 0.08683758970199267\n",
            "The Efficiency is 99.93847949184378\n"
          ]
        }
      ]
    },
    {
      "cell_type": "code",
      "source": [],
      "metadata": {
        "id": "Vi0d_dfqAFsz"
      },
      "execution_count": null,
      "outputs": []
    }
  ]
}