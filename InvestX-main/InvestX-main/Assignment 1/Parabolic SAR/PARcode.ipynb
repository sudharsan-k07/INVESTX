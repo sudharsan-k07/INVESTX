{
 "cells": [
  {
   "cell_type": "code",
   "execution_count": 29,
   "id": "312e0e11",
   "metadata": {},
   "outputs": [],
   "source": [
    "#importing libraries \n",
    "\n",
    "import numpy as np\n",
    "import pandas as pd\n",
    "from datetime import datetime, timedelta\n",
    "import yfinance as yf\n",
    "\n"
   ]
  },
  {
   "cell_type": "code",
   "execution_count": 30,
   "id": "83071ecb",
   "metadata": {},
   "outputs": [
    {
     "name": "stdout",
     "output_type": "stream",
     "text": [
      "[*********************100%***********************]  1 of 1 completed\n"
     ]
    }
   ],
   "source": [
    "#fetching data of NVIDIA Stock\n",
    "\n",
    "data = yf.download('NVDA', start='2021-05-23', end='2023-05-23')\n"
   ]
  },
  {
   "cell_type": "code",
   "execution_count": 39,
   "id": "f8440ae1",
   "metadata": {},
   "outputs": [
    {
     "name": "stdout",
     "output_type": "stream",
     "text": [
      "                  Open        High         Low       Close   Adj Close  \\\n",
      "Date                                                                     \n",
      "2021-05-24  152.125000  157.449997  151.759995  156.119995  155.865356   \n",
      "2021-05-25  157.660004  158.184998  154.824997  156.477493  156.222275   \n",
      "2021-05-26  157.342499  157.937500  155.862503  157.000000  156.743912   \n",
      "2021-05-27  156.997498  157.500000  154.600006  154.880005  154.627380   \n",
      "2021-05-28  155.009995  162.774994  155.009995  162.445007  162.180069   \n",
      "...                ...         ...         ...         ...         ...   \n",
      "2023-05-16  288.410004  298.700012  288.320007  292.130005  292.130005   \n",
      "2023-05-17  295.839996  301.989990  294.299988  301.779999  301.779999   \n",
      "2023-05-18  304.100006  318.279999  303.200012  316.779999  316.779999   \n",
      "2023-05-19  315.359985  315.799988  309.160004  312.640015  312.640015   \n",
      "2023-05-22  309.010010  315.200012  306.799988  311.760010  311.760010   \n",
      "\n",
      "              Volume  Parabolic_SAR  \n",
      "Date                                 \n",
      "2021-05-24  55481600     151.759995  \n",
      "2021-05-25  43540800     151.873795  \n",
      "2021-05-26  37044000     152.126243  \n",
      "2021-05-27  58147600     152.368593  \n",
      "2021-05-28  64453600     152.601249  \n",
      "...              ...            ...  \n",
      "2023-05-16  44940500     280.666713  \n",
      "2023-05-17  43253500     282.470043  \n",
      "2023-05-18  74872500     284.812437  \n",
      "2023-05-19  47312400     289.497895  \n",
      "2023-05-22  37200000     293.527390  \n",
      "\n",
      "[503 rows x 7 columns]\n"
     ]
    }
   ],
   "source": [
    "#Creating a function that returns parabolic sar\n",
    "def calculate_parabolic_SAR(df):\n",
    "    initial_acceleration_factor=0.02\n",
    "    acceleration_factor=initial_acceleration_factor\n",
    "    max_acceleration_factor=0.2\n",
    "    # Assuming the trend is up until it changes\n",
    "    sar=[df['Low'].iloc[0]]\n",
    "    trend=\"UP\"\n",
    "    extreme_point=df['High'].iloc[0]\n",
    "\n",
    "    for i in range(1, len(df)):\n",
    "        high=df['High'].iloc[i]\n",
    "        low=df['Low'].iloc[i]\n",
    "        next_sar=sar[-1]+acceleration_factor*(extreme_point - sar[-1])\n",
    "        if trend ==\"UP\":\n",
    "            if high >extreme_point:\n",
    "                extreme_point=high\n",
    "                acceleration_factor = min(acceleration_factor + initial_acceleration_factor, max_acceleration_factor)\n",
    "        if next_sar >low:\n",
    "                next_sar= extreme_point\n",
    "                extreme_point= low\n",
    "                trend= \"DOWN\"\n",
    "                acceleration_factor = initial_acceleration_factor\n",
    "        elif trend==\"DOWN\":\n",
    "            if low<extreme_point:\n",
    "                extreme_point=low\n",
    "                acceleration_factor = min(acceleration_factor + initial_acceleration_factor, max_acceleration_factor)\n",
    "            if next_sar <high:\n",
    "                next_sar= extreme_point\n",
    "                extreme_point =high\n",
    "                trend =\"UP\"\n",
    "                acceleration_factor =initial_acceleration_factor\n",
    "        sar.append(next_sar)\n",
    "    return sar\n",
    "data['Parabolic_SAR'] =calculate_parabolic_SAR(data)\n",
    "\n",
    "print(data)\n"
   ]
  },
  {
   "cell_type": "code",
   "execution_count": null,
   "id": "14e40679",
   "metadata": {},
   "outputs": [],
   "source": []
  },
  {
   "cell_type": "code",
   "execution_count": null,
   "id": "7189820e",
   "metadata": {},
   "outputs": [],
   "source": []
  }
 ],
 "metadata": {
  "kernelspec": {
   "display_name": "Python 3 (ipykernel)",
   "language": "python",
   "name": "python3"
  },
  "language_info": {
   "codemirror_mode": {
    "name": "ipython",
    "version": 3
   },
   "file_extension": ".py",
   "mimetype": "text/x-python",
   "name": "python",
   "nbconvert_exporter": "python",
   "pygments_lexer": "ipython3",
   "version": "3.10.9"
  }
 },
 "nbformat": 4,
 "nbformat_minor": 5
}
