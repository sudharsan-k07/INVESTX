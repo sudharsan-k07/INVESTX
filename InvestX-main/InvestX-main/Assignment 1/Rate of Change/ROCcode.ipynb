{
 "cells": [
  {
   "cell_type": "code",
   "execution_count": 9,
   "id": "653bfe1f",
   "metadata": {},
   "outputs": [],
   "source": [
    "#importing libraries \n",
    "\n",
    "import numpy as np\n",
    "import pandas as pd\n",
    "from scipy.stats import pearsonr\n",
    "import yfinance as yf\n",
    "import math\n"
   ]
  },
  {
   "cell_type": "code",
   "execution_count": 12,
   "id": "dfd4977f",
   "metadata": {},
   "outputs": [
    {
     "name": "stdout",
     "output_type": "stream",
     "text": [
      "[*********************100%***********************]  1 of 1 completed\n"
     ]
    }
   ],
   "source": [
    "#fetching data of NVIDIA Stock\n",
    "\n",
    "data = yf.download('NVDA', start='2021-05-23', end='2023-05-23')\n"
   ]
  },
  {
   "cell_type": "code",
   "execution_count": 13,
   "id": "ac12cc2d",
   "metadata": {},
   "outputs": [
    {
     "name": "stdout",
     "output_type": "stream",
     "text": [
      "[*********************100%***********************]  1 of 1 completed\n",
      "Best lookback period: 30 days\n"
     ]
    }
   ],
   "source": [
    "#Calculating the optimum lookback period\n",
    "\n",
    "\n",
    "data = yf.download('NVDA', start='2021-05-23', end='2023-05-23')\n",
    "\n",
    "best_correlation = -1\n",
    "best_lookback = -1\n",
    "\n",
    "for lookback in range(7, 31):\n",
    "    # Calculating the ROC\n",
    "    data['ROC'] = ((data['Close'] - data['Close'].shift(lookback)) / data['Close'].shift(lookback)) * 100\n",
    "    cleaned_data = data.dropna()\n",
    "\n",
    "    if len(cleaned_data) > lookback:\n",
    "        correlation, _ = pearsonr(cleaned_data['ROC'], cleaned_data['Close'])\n",
    "        \n",
    "        if correlation > best_correlation:\n",
    "            best_correlation = correlation\n",
    "            best_lookback = lookback\n",
    "\n"
   ]
  },
  {
   "cell_type": "code",
   "execution_count": 16,
   "id": "28a6d40d",
   "metadata": {},
   "outputs": [],
   "source": [
    "#Calculating ROC with optimized values\n",
    "data['ROC'] = ((data['Close'] - data['Close'].shift(best_lookback)) / data['Close'].shift(best_lookback)) * 100"
   ]
  },
  {
   "cell_type": "code",
   "execution_count": 17,
   "id": "8ca42f4c",
   "metadata": {},
   "outputs": [
    {
     "name": "stdout",
     "output_type": "stream",
     "text": [
      "                  Open        High         Low       Close   Adj Close  \\\n",
      "Date                                                                     \n",
      "2021-05-24  152.125000  157.449997  151.759995  156.119995  155.865356   \n",
      "2021-05-25  157.660004  158.184998  154.824997  156.477493  156.222290   \n",
      "2021-05-26  157.342499  157.937500  155.862503  157.000000  156.743942   \n",
      "2021-05-27  156.997498  157.500000  154.600006  154.880005  154.627380   \n",
      "2021-05-28  155.009995  162.774994  155.009995  162.445007  162.180054   \n",
      "...                ...         ...         ...         ...         ...   \n",
      "2023-05-16  288.410004  298.700012  288.320007  292.130005  292.130005   \n",
      "2023-05-17  295.839996  301.989990  294.299988  301.779999  301.779999   \n",
      "2023-05-18  304.100006  318.279999  303.200012  316.779999  316.779999   \n",
      "2023-05-19  315.359985  315.799988  309.160004  312.640015  312.640015   \n",
      "2023-05-22  309.010010  315.200012  306.799988  311.760010  311.760010   \n",
      "\n",
      "              Volume        ROC  \n",
      "Date                             \n",
      "2021-05-24  55481600        NaN  \n",
      "2021-05-25  43540800        NaN  \n",
      "2021-05-26  37044000        NaN  \n",
      "2021-05-27  58147600        NaN  \n",
      "2021-05-28  64453600        NaN  \n",
      "...              ...        ...  \n",
      "2023-05-16  44940500   4.462725  \n",
      "2023-05-17  43253500   9.926055  \n",
      "2023-05-18  74872500  17.845319  \n",
      "2023-05-19  47312400  15.634139  \n",
      "2023-05-22  37200000  13.042532  \n",
      "\n",
      "[503 rows x 7 columns]\n"
     ]
    }
   ],
   "source": [
    "print(data)"
   ]
  },
  {
   "cell_type": "code",
   "execution_count": null,
   "id": "68ab72c4",
   "metadata": {},
   "outputs": [],
   "source": []
  }
 ],
 "metadata": {
  "kernelspec": {
   "display_name": "Python 3 (ipykernel)",
   "language": "python",
   "name": "python3"
  },
  "language_info": {
   "codemirror_mode": {
    "name": "ipython",
    "version": 3
   },
   "file_extension": ".py",
   "mimetype": "text/x-python",
   "name": "python",
   "nbconvert_exporter": "python",
   "pygments_lexer": "ipython3",
   "version": "3.10.9"
  }
 },
 "nbformat": 4,
 "nbformat_minor": 5
}
